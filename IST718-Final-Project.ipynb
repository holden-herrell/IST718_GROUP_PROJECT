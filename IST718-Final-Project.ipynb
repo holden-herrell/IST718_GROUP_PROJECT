{
 "cells": [
  {
   "cell_type": "code",
   "execution_count": null,
   "metadata": {},
   "outputs": [],
   "source": [
    "import pandas as pd\n",
    "import numpy as np\n",
    "from datetime import datetime as dt\n",
    "import seaborn as sns\n",
    "import matplotlib.pyplot as plt"
   ]
  },
  {
   "cell_type": "code",
   "execution_count": null,
   "metadata": {},
   "outputs": [],
   "source": [
    "#Import Final Combined Data\n",
    "USFinal1URL=\"https://raw.githubusercontent.com/holden-herrell/IST718_GROUP_PROJECT/master/DATASETS/COMBINED%20DATA/USFinal_1.csv\"\n",
    "USFinal2URL=\"https://raw.githubusercontent.com/holden-herrell/IST718_GROUP_PROJECT/master/DATASETS/COMBINED%20DATA/USFinal_2.csv\"\n",
    "USFinal3URL=\"https://raw.githubusercontent.com/holden-herrell/IST718_GROUP_PROJECT/master/DATASETS/COMBINED%20DATA/USFinal_3.csv\"\n",
    "USFinal4URL=\"https://raw.githubusercontent.com/holden-herrell/IST718_GROUP_PROJECT/master/DATASETS/COMBINED%20DATA/USFinal_4.csv\"\n",
    "USF1=pd.DataFrame(pd.read_csv(USFinal1URL, engine='python', error_bad_lines=False))\n",
    "USF2=pd.DataFrame(pd.read_csv(USFinal2URL, engine='python', error_bad_lines=False))\n",
    "USF3=pd.DataFrame(pd.read_csv(USFinal3URL, engine='python', error_bad_lines=False))\n",
    "USF4=pd.DataFrame(pd.read_csv(USFinal4URL, engine='python', error_bad_lines=False))"
   ]
  },
  {
   "cell_type": "code",
   "execution_count": null,
   "metadata": {},
   "outputs": [],
   "source": [
    "USFinal=USF1.append(USF2, ignore_index=True)\n",
    "USFinal=USFinal.append(USF3,ignore_index=True)\n",
    "USFinal=USFinal.append(USF4,ignore_index=True)"
   ]
  },
  {
   "cell_type": "code",
   "execution_count": null,
   "metadata": {},
   "outputs": [],
   "source": [
    "sns.set(style='darkgrid')\n",
    "sns.countplot(x='Day_of_Week', data = USFinal, hue='City')\n",
    "#most accidents occured on Weekdays"
   ]
  },
  {
   "cell_type": "code",
   "execution_count": null,
   "metadata": {},
   "outputs": [],
   "source": [
    "USFinal.Weather_Condition.value_counts().head(10)"
   ]
  },
  {
   "cell_type": "code",
   "execution_count": null,
   "metadata": {},
   "outputs": [],
   "source": [
    "sns.boxplot(x='City', y='Temperature(F)', data = USFinal)"
   ]
  },
  {
   "cell_type": "code",
   "execution_count": null,
   "metadata": {},
   "outputs": [],
   "source": [
    "USFinalCity = USFinal#.loc[USFinal.City=='Dallas']\n"
   ]
  },
  {
   "cell_type": "code",
   "execution_count": null,
   "metadata": {},
   "outputs": [],
   "source": [
    "fig=sns.heatmap(USFinalCity[['Day_of_Week',\n",
    "       'MLBGame', 'MLB_Attendance', 'NBAGame', 'NBA_Attendance', 'NFLGame',\n",
    "       'NFL_Attendance', 'Crossing', 'Amenity',\n",
    "       'Bump', 'Give_Way', 'Humidity(%)', 'Junction', 'No_Exit',\n",
    "       'Precipitation(in)', 'Pressure(in)', 'Railway', 'Roundabout',\n",
    "       'Severity', 'Side', 'Station', 'Stop', 'Day_or_Night', 'Temperature(F)',\n",
    "       'Traffic_Calming', 'Traffic_Signal', 'Turning_Loop', 'Visibility(mi)',\n",
    "       'Weather_Condition', 'Wind_Chill(F)', 'Wind_Direction',\n",
    "       'Wind_Speed(mph)']].corr(),annot=True,cmap='RdYlGn',linewidths=0.2,annot_kws={'size':13})\n",
    "fig=plt.gcf()\n",
    "fig.set_size_inches(20,10)\n",
    "plt.xticks(fontsize=10)\n",
    "plt.yticks(fontsize=10)\n",
    "plt.ylim(14, 0)\n",
    "plt.show()\n"
   ]
  },
  {
   "cell_type": "code",
   "execution_count": null,
   "metadata": {},
   "outputs": [],
   "source": [
    "Accident_Corr = pd.pivot_table(USFinalCity, index = ['Date','City'], values = ['MLB_Attendance','NBA_Attendance','NFL_Attendance','State'], aggfunc={'MLB_Attendance':np.sum,'NBA_Attendance':np.sum,'NFL_Attendance':np.sum,'State':'count'})\n",
    "Accident_Corr=Accident_Corr.rename(columns={'State':\"Accidents\"})"
   ]
  },
  {
   "cell_type": "code",
   "execution_count": null,
   "metadata": {},
   "outputs": [],
   "source": [
    "import matplotlib.pyplot as plt\n",
    "fig=sns.heatmap(Accident_Corr[['MLB_Attendance', 'NBA_Attendance', 'NFL_Attendance', 'Accidents']].corr(),annot=True,cmap='RdYlGn',linewidths=0.2,annot_kws={'size':13})\n",
    "fig=plt.gcf()\n",
    "fig.set_size_inches(20,10)\n",
    "plt.xticks(fontsize=10)\n",
    "plt.yticks(fontsize=10)\n",
    "plt.ylim(4, 0)\n",
    "plt.show()\n"
   ]
  },
  {
   "cell_type": "code",
   "execution_count": null,
   "metadata": {},
   "outputs": [],
   "source": [
    "#Run below if maps fail for No module named 'plotly'\n",
    "#pip install --upgrade plotly"
   ]
  },
  {
   "cell_type": "code",
   "execution_count": null,
   "metadata": {
    "scrolled": false
   },
   "outputs": [],
   "source": [
    "#MLB Game\n",
    "import plotly.express as px\n",
    "fig = px.scatter_mapbox(USFinal, lat=\"Lat\", lon=\"Lng\", color=\"MLBGame\",\n",
    "                   size_max=15, zoom=10)\n",
    "fig.update_layout(mapbox_style=\"open-street-map\")\n",
    "fig.update_layout(margin={\"r\":0,\"t\":0,\"l\":0,\"b\":0})\n",
    "fig.show()"
   ]
  },
  {
   "cell_type": "code",
   "execution_count": null,
   "metadata": {},
   "outputs": [],
   "source": [
    "#NBA Game\n",
    "import plotly.express as px\n",
    "fig = px.scatter_mapbox(USFinal, lat=\"Lat\", lon=\"Lng\", color=\"NBAGame\",\n",
    "                   size_max=15, zoom=10)\n",
    "fig.update_layout(mapbox_style=\"open-street-map\")\n",
    "fig.update_layout(margin={\"r\":0,\"t\":0,\"l\":0,\"b\":0})\n",
    "fig.show()"
   ]
  },
  {
   "cell_type": "code",
   "execution_count": null,
   "metadata": {},
   "outputs": [],
   "source": [
    "#NFL Game\n",
    "import plotly.express as px\n",
    "fig = px.scatter_mapbox(USFinal, lat=\"Lat\", lon=\"Lng\", color=\"NFLGame\",\n",
    "                   size_max=15, zoom=10)\n",
    "fig.update_layout(mapbox_style=\"open-street-map\")\n",
    "fig.update_layout(margin={\"r\":0,\"t\":0,\"l\":0,\"b\":0})\n",
    "fig.show()"
   ]
  },
  {
   "cell_type": "code",
   "execution_count": null,
   "metadata": {},
   "outputs": [],
   "source": []
  }
 ],
 "metadata": {
  "kernelspec": {
   "display_name": "Python 3",
   "language": "python",
   "name": "python3"
  },
  "language_info": {
   "codemirror_mode": {
    "name": "ipython",
    "version": 3
   },
   "file_extension": ".py",
   "mimetype": "text/x-python",
   "name": "python",
   "nbconvert_exporter": "python",
   "pygments_lexer": "ipython3",
   "version": "3.7.4"
  }
 },
 "nbformat": 4,
 "nbformat_minor": 2
}
